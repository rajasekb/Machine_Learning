{
 "cells": [
  {
   "cell_type": "code",
   "execution_count": 25,
   "id": "3d594802",
   "metadata": {
    "id": "2227e13e-efdf-41a0-a93f-e497a1d441c2"
   },
   "outputs": [],
   "source": [
    "import pandas as pd\n",
    "import numpy as np\n",
    "#import plotly.express as px\n",
    "from scipy.signal import argrelextrema\n",
    "\n",
    "from datetime import datetime\n",
    "import warnings\n",
    "import json\n",
    "warnings.filterwarnings(\"ignore\")"
   ]
  },
  {
   "cell_type": "code",
   "execution_count": 54,
   "id": "f4d0e916-5dd1-4d80-afed-5bb9137dd45f",
   "metadata": {},
   "outputs": [],
   "source": [
    "sample_tsdata = pd.read_csv(r'Time_Series_Data.txt')\n",
    "#print(sample_tsdata.head())\n",
    "newcolmname = sample_tsdata.columns.str.replace(' ', '')\n",
    "sample_tsdata.columns = list(newcolmname)\n"
   ]
  },
  {
   "cell_type": "code",
   "execution_count": 56,
   "id": "27a7f89e-b421-4e5f-a59d-4a05910e5ddc",
   "metadata": {},
   "outputs": [
    {
     "data": {
      "text/html": [
       "<div>\n",
       "<style scoped>\n",
       "    .dataframe tbody tr th:only-of-type {\n",
       "        vertical-align: middle;\n",
       "    }\n",
       "\n",
       "    .dataframe tbody tr th {\n",
       "        vertical-align: top;\n",
       "    }\n",
       "\n",
       "    .dataframe thead th {\n",
       "        text-align: right;\n",
       "    }\n",
       "</style>\n",
       "<table border=\"1\" class=\"dataframe\">\n",
       "  <thead>\n",
       "    <tr style=\"text-align: right;\">\n",
       "      <th></th>\n",
       "      <th>CompTime</th>\n",
       "      <th>RUNDATE</th>\n",
       "      <th>REPORT</th>\n",
       "      <th>DOMAIN</th>\n",
       "      <th>AH_NAME</th>\n",
       "      <th>COMPLETETIME</th>\n",
       "      <th>SLA</th>\n",
       "      <th>Number_of_Records</th>\n",
       "    </tr>\n",
       "  </thead>\n",
       "  <tbody>\n",
       "    <tr>\n",
       "      <th>0</th>\n",
       "      <td>0:45</td>\n",
       "      <td>18/10/21</td>\n",
       "      <td>Sales PO Shipment (01:30)</td>\n",
       "      <td>MP</td>\n",
       "      <td>JB.GECSC.CMD.SLACK.SALES.PO.SHPMNT.END.BQ</td>\n",
       "      <td>18/10/21 0:45</td>\n",
       "      <td>1:30</td>\n",
       "      <td>1</td>\n",
       "    </tr>\n",
       "    <tr>\n",
       "      <th>1</th>\n",
       "      <td>0:50</td>\n",
       "      <td>18/10/21</td>\n",
       "      <td>Pre-Orders Core (01:30)</td>\n",
       "      <td>MP</td>\n",
       "      <td>JB.GECORDER.ORDER.US.SET.DATE.PARAM.SALES.ORDE...</td>\n",
       "      <td>18/10/21 0:50</td>\n",
       "      <td>1:30</td>\n",
       "      <td>1</td>\n",
       "    </tr>\n",
       "    <tr>\n",
       "      <th>2</th>\n",
       "      <td>0:58</td>\n",
       "      <td>18/10/21</td>\n",
       "      <td>MP Commissions (02:30)</td>\n",
       "      <td>MP</td>\n",
       "      <td>JB.GECFINANCE.GECFINANCE.CMD.SLACK.SOCD.END</td>\n",
       "      <td>18/10/21 0:58</td>\n",
       "      <td>2:30</td>\n",
       "      <td>1</td>\n",
       "    </tr>\n",
       "    <tr>\n",
       "      <th>3</th>\n",
       "      <td>0:45</td>\n",
       "      <td>17/10/21</td>\n",
       "      <td>Sales PO Shipment (01:30)</td>\n",
       "      <td>MP</td>\n",
       "      <td>JB.GECSC.CMD.SLACK.SALES.PO.SHPMNT.END.BQ</td>\n",
       "      <td>17/10/21 0:45</td>\n",
       "      <td>1:30</td>\n",
       "      <td>1</td>\n",
       "    </tr>\n",
       "    <tr>\n",
       "      <th>4</th>\n",
       "      <td>0:47</td>\n",
       "      <td>17/10/21</td>\n",
       "      <td>Pre-Orders Core (01:30)</td>\n",
       "      <td>MP</td>\n",
       "      <td>JB.GECORDER.ORDER.US.SET.DATE.PARAM.SALES.ORDE...</td>\n",
       "      <td>17/10/21 0:47</td>\n",
       "      <td>1:30</td>\n",
       "      <td>1</td>\n",
       "    </tr>\n",
       "    <tr>\n",
       "      <th>5</th>\n",
       "      <td>1:00</td>\n",
       "      <td>17/10/21</td>\n",
       "      <td>MP Commissions (02:30)</td>\n",
       "      <td>MP</td>\n",
       "      <td>JB.GECFINANCE.GECFINANCE.CMD.SLACK.SOCD.END</td>\n",
       "      <td>17/10/21 1:00</td>\n",
       "      <td>2:30</td>\n",
       "      <td>1</td>\n",
       "    </tr>\n",
       "    <tr>\n",
       "      <th>6</th>\n",
       "      <td>0:45</td>\n",
       "      <td>16/10/21</td>\n",
       "      <td>Pre-Orders Core (01:30)</td>\n",
       "      <td>MP</td>\n",
       "      <td>JB.GECORDER.ORDER.US.SET.DATE.PARAM.SALES.ORDE...</td>\n",
       "      <td>16/10/21 0:45</td>\n",
       "      <td>1:30</td>\n",
       "      <td>1</td>\n",
       "    </tr>\n",
       "    <tr>\n",
       "      <th>7</th>\n",
       "      <td>0:45</td>\n",
       "      <td>16/10/21</td>\n",
       "      <td>Sales PO Shipment (01:30)</td>\n",
       "      <td>MP</td>\n",
       "      <td>JB.GECSC.CMD.SLACK.SALES.PO.SHPMNT.END.BQ</td>\n",
       "      <td>16/10/21 0:45</td>\n",
       "      <td>1:30</td>\n",
       "      <td>1</td>\n",
       "    </tr>\n",
       "    <tr>\n",
       "      <th>8</th>\n",
       "      <td>1:01</td>\n",
       "      <td>16/10/21</td>\n",
       "      <td>MP Commissions (02:30)</td>\n",
       "      <td>MP</td>\n",
       "      <td>JB.GECFINANCE.GECFINANCE.CMD.SLACK.SOCD.END</td>\n",
       "      <td>16/10/21 1:01</td>\n",
       "      <td>2:30</td>\n",
       "      <td>1</td>\n",
       "    </tr>\n",
       "    <tr>\n",
       "      <th>9</th>\n",
       "      <td>0:39</td>\n",
       "      <td>15/10/21</td>\n",
       "      <td>Pre-Orders Core (01:30)</td>\n",
       "      <td>MP</td>\n",
       "      <td>JB.GECORDER.ORDER.US.SET.DATE.PARAM.SALES.ORDE...</td>\n",
       "      <td>15/10/21 0:39</td>\n",
       "      <td>1:30</td>\n",
       "      <td>1</td>\n",
       "    </tr>\n",
       "  </tbody>\n",
       "</table>\n",
       "</div>"
      ],
      "text/plain": [
       "  CompTime   RUNDATE                     REPORT DOMAIN  \\\n",
       "0     0:45  18/10/21  Sales PO Shipment (01:30)     MP   \n",
       "1     0:50  18/10/21    Pre-Orders Core (01:30)     MP   \n",
       "2     0:58  18/10/21     MP Commissions (02:30)     MP   \n",
       "3     0:45  17/10/21  Sales PO Shipment (01:30)     MP   \n",
       "4     0:47  17/10/21    Pre-Orders Core (01:30)     MP   \n",
       "5     1:00  17/10/21     MP Commissions (02:30)     MP   \n",
       "6     0:45  16/10/21    Pre-Orders Core (01:30)     MP   \n",
       "7     0:45  16/10/21  Sales PO Shipment (01:30)     MP   \n",
       "8     1:01  16/10/21     MP Commissions (02:30)     MP   \n",
       "9     0:39  15/10/21    Pre-Orders Core (01:30)     MP   \n",
       "\n",
       "                                             AH_NAME   COMPLETETIME   SLA  \\\n",
       "0          JB.GECSC.CMD.SLACK.SALES.PO.SHPMNT.END.BQ  18/10/21 0:45  1:30   \n",
       "1  JB.GECORDER.ORDER.US.SET.DATE.PARAM.SALES.ORDE...  18/10/21 0:50  1:30   \n",
       "2        JB.GECFINANCE.GECFINANCE.CMD.SLACK.SOCD.END  18/10/21 0:58  2:30   \n",
       "3          JB.GECSC.CMD.SLACK.SALES.PO.SHPMNT.END.BQ  17/10/21 0:45  1:30   \n",
       "4  JB.GECORDER.ORDER.US.SET.DATE.PARAM.SALES.ORDE...  17/10/21 0:47  1:30   \n",
       "5        JB.GECFINANCE.GECFINANCE.CMD.SLACK.SOCD.END  17/10/21 1:00  2:30   \n",
       "6  JB.GECORDER.ORDER.US.SET.DATE.PARAM.SALES.ORDE...  16/10/21 0:45  1:30   \n",
       "7          JB.GECSC.CMD.SLACK.SALES.PO.SHPMNT.END.BQ  16/10/21 0:45  1:30   \n",
       "8        JB.GECFINANCE.GECFINANCE.CMD.SLACK.SOCD.END  16/10/21 1:01  2:30   \n",
       "9  JB.GECORDER.ORDER.US.SET.DATE.PARAM.SALES.ORDE...  15/10/21 0:39  1:30   \n",
       "\n",
       "   Number_of_Records  \n",
       "0                  1  \n",
       "1                  1  \n",
       "2                  1  \n",
       "3                  1  \n",
       "4                  1  \n",
       "5                  1  \n",
       "6                  1  \n",
       "7                  1  \n",
       "8                  1  \n",
       "9                  1  "
      ]
     },
     "execution_count": 56,
     "metadata": {},
     "output_type": "execute_result"
    }
   ],
   "source": [
    "sample_tsdata.head(n=10)\n",
    "\n",
    "1. Find positive and negative tend for each report\n",
    "2. Find records which highest and lowest deviation\n",
    "3. If the devition with single report or all report\n",
    "4. Articualte 3 scenario in sentence and fill report name which outlier\n"
   ]
  },
  {
   "cell_type": "code",
   "execution_count": null,
   "id": "cd4cfc99-e0c4-4b41-b4a3-2d3d45d42abd",
   "metadata": {},
   "outputs": [],
   "source": [
    "def create_missed_Sla (x1=sample_tsdata['SLA'],x2=sample_tsdata['CompTime']):\n",
    "    \n",
    "    time_diff = x1 - x2\n",
    "    missed_sla = 'met' if time_diff > 0 else 'missed'\n",
    "    \n",
    "    return missed_sla"
   ]
  },
  {
   "cell_type": "code",
   "execution_count": null,
   "id": "e0dd3f50-7a1a-4d08-82fc-ba032348fe93",
   "metadata": {},
   "outputs": [],
   "source": [
    "sample_tsdata[\"MISSED_SLA\"] = create_missed_Sla (x1=sample_tsdata['SLA'],x2=sample_tsdata['CompTime'])"
   ]
  },
  {
   "cell_type": "code",
   "execution_count": 51,
   "id": "009d4b6c-0a85-4cf4-88fe-b8ea53613ec3",
   "metadata": {},
   "outputs": [],
   "source": [
    "ts_json=json.dumps(sample_tsdata.to_dict())\n",
    "ts_param_json = json.dumps({'xaxisname':'CompTime',\n",
    "            'yaxisname': 'RUNDATE',\n",
    "            'impcol':['COMPLETETIME'],\n",
    "            'grp_col':['REPORT'],\n",
    "            'recency': None,\n",
    "            'sla_col': 'SLA',\n",
    "            'date_col': None,\n",
    "            'specifc_fucn': } )"
   ]
  },
  {
   "cell_type": "code",
   "execution_count": 53,
   "id": "4cfd88ac-8884-4665-b3eb-1347d760ab54",
   "metadata": {},
   "outputs": [
    {
     "data": {
      "text/html": [
       "<div>\n",
       "<style scoped>\n",
       "    .dataframe tbody tr th:only-of-type {\n",
       "        vertical-align: middle;\n",
       "    }\n",
       "\n",
       "    .dataframe tbody tr th {\n",
       "        vertical-align: top;\n",
       "    }\n",
       "\n",
       "    .dataframe thead th {\n",
       "        text-align: right;\n",
       "    }\n",
       "</style>\n",
       "<table border=\"1\" class=\"dataframe\">\n",
       "  <thead>\n",
       "    <tr style=\"text-align: right;\">\n",
       "      <th></th>\n",
       "      <th>CompTime</th>\n",
       "      <th>RUNDATE</th>\n",
       "      <th>REPORT</th>\n",
       "      <th>DOMAIN</th>\n",
       "      <th>AH_NAME</th>\n",
       "      <th>COMPLETETIME</th>\n",
       "      <th>SLA</th>\n",
       "      <th>Number_of_Records</th>\n",
       "    </tr>\n",
       "  </thead>\n",
       "  <tbody>\n",
       "    <tr>\n",
       "      <th>0</th>\n",
       "      <td>0:45</td>\n",
       "      <td>18/10/21</td>\n",
       "      <td>Sales PO Shipment (01:30)</td>\n",
       "      <td>MP</td>\n",
       "      <td>JB.GECSC.CMD.SLACK.SALES.PO.SHPMNT.END.BQ</td>\n",
       "      <td>18/10/21 0:45</td>\n",
       "      <td>1:30</td>\n",
       "      <td>1</td>\n",
       "    </tr>\n",
       "    <tr>\n",
       "      <th>1</th>\n",
       "      <td>0:50</td>\n",
       "      <td>18/10/21</td>\n",
       "      <td>Pre-Orders Core (01:30)</td>\n",
       "      <td>MP</td>\n",
       "      <td>JB.GECORDER.ORDER.US.SET.DATE.PARAM.SALES.ORDE...</td>\n",
       "      <td>18/10/21 0:50</td>\n",
       "      <td>1:30</td>\n",
       "      <td>1</td>\n",
       "    </tr>\n",
       "    <tr>\n",
       "      <th>2</th>\n",
       "      <td>0:58</td>\n",
       "      <td>18/10/21</td>\n",
       "      <td>MP Commissions (02:30)</td>\n",
       "      <td>MP</td>\n",
       "      <td>JB.GECFINANCE.GECFINANCE.CMD.SLACK.SOCD.END</td>\n",
       "      <td>18/10/21 0:58</td>\n",
       "      <td>2:30</td>\n",
       "      <td>1</td>\n",
       "    </tr>\n",
       "    <tr>\n",
       "      <th>3</th>\n",
       "      <td>0:45</td>\n",
       "      <td>17/10/21</td>\n",
       "      <td>Sales PO Shipment (01:30)</td>\n",
       "      <td>MP</td>\n",
       "      <td>JB.GECSC.CMD.SLACK.SALES.PO.SHPMNT.END.BQ</td>\n",
       "      <td>17/10/21 0:45</td>\n",
       "      <td>1:30</td>\n",
       "      <td>1</td>\n",
       "    </tr>\n",
       "    <tr>\n",
       "      <th>4</th>\n",
       "      <td>0:47</td>\n",
       "      <td>17/10/21</td>\n",
       "      <td>Pre-Orders Core (01:30)</td>\n",
       "      <td>MP</td>\n",
       "      <td>JB.GECORDER.ORDER.US.SET.DATE.PARAM.SALES.ORDE...</td>\n",
       "      <td>17/10/21 0:47</td>\n",
       "      <td>1:30</td>\n",
       "      <td>1</td>\n",
       "    </tr>\n",
       "  </tbody>\n",
       "</table>\n",
       "</div>"
      ],
      "text/plain": [
       "  CompTime   RUNDATE                     REPORT DOMAIN  \\\n",
       "0     0:45  18/10/21  Sales PO Shipment (01:30)     MP   \n",
       "1     0:50  18/10/21    Pre-Orders Core (01:30)     MP   \n",
       "2     0:58  18/10/21     MP Commissions (02:30)     MP   \n",
       "3     0:45  17/10/21  Sales PO Shipment (01:30)     MP   \n",
       "4     0:47  17/10/21    Pre-Orders Core (01:30)     MP   \n",
       "\n",
       "                                             AH_NAME   COMPLETETIME   SLA  \\\n",
       "0          JB.GECSC.CMD.SLACK.SALES.PO.SHPMNT.END.BQ  18/10/21 0:45  1:30   \n",
       "1  JB.GECORDER.ORDER.US.SET.DATE.PARAM.SALES.ORDE...  18/10/21 0:50  1:30   \n",
       "2        JB.GECFINANCE.GECFINANCE.CMD.SLACK.SOCD.END  18/10/21 0:58  2:30   \n",
       "3          JB.GECSC.CMD.SLACK.SALES.PO.SHPMNT.END.BQ  17/10/21 0:45  1:30   \n",
       "4  JB.GECORDER.ORDER.US.SET.DATE.PARAM.SALES.ORDE...  17/10/21 0:47  1:30   \n",
       "\n",
       "   Number_of_Records  \n",
       "0                  1  \n",
       "1                  1  \n",
       "2                  1  \n",
       "3                  1  \n",
       "4                  1  "
      ]
     },
     "execution_count": 53,
     "metadata": {},
     "output_type": "execute_result"
    }
   ],
   "source": [
    "pd.DataFrame(json.loads(ts_json)).head()"
   ]
  },
  {
   "cell_type": "code",
   "execution_count": 29,
   "id": "85e9e53a",
   "metadata": {
    "id": "d0d31773-b43b-4201-8b6e-8244d95d7f90"
   },
   "outputs": [],
   "source": [
    "#sample_tabdata.iloc[:4,:].to_dict()\n",
    "def convert_datetime(date_str):\n",
    "    try:\n",
    "        return datetime.strptime(date_str, \"%d/%m/%y %H:%M\")\n",
    "    except:\n",
    "        return datetime.strptime(date_str, \"%d/%m/%Y %H:%M\")\n",
    "\n",
    "def convert_time(time_str):\n",
    "    a, b = list(map(int, time_str.split(\":\")))\n",
    "    return a *60 +  b\n"
   ]
  },
  {
   "cell_type": "markdown",
   "id": "d758f305",
   "metadata": {
    "id": "16ad8dd4-c47e-488b-8f39-bdbcd31afd92"
   },
   "source": [
    "# Configurations"
   ]
  },
  {
   "cell_type": "code",
   "execution_count": 33,
   "id": "4fca5c08",
   "metadata": {
    "id": "ab2b2a9e-3447-4400-98a1-4e75d149de11"
   },
   "outputs": [],
   "source": [
    "# Data receviving\n",
    "\n",
    "_input = {'tabdata':tab_dict,\n",
    " 'tabparam':{'target_col':'Profit',\n",
    "            'impcol':['Sales','Quantity'],\n",
    "            'grp_cols':['Category'],\n",
    "             'reporting_cols' : ['Region','State'],\n",
    "             'recency':['date_col',\"no_of_point\"],\n",
    "             'corr_colm_check': None\n",
    "            },\n",
    " 'tsdata':ts_json,\n",
    " 'tsparam':{'xaxisname':'CompTime',\n",
    "            'yaxisname': 'RUNDATE',\n",
    "            'impcol':['MISSED_SLA'],\n",
    "            'grp_col':['REPORT'],\n",
    "            'recency': None\n",
    "            }  \n",
    "  }\n",
    "\n",
    "\n",
    "tab_knowledge_base = [\"Max and Min of {0} is {1}. The {0} is correlated with {2} and could be potential reason for max and min.\",\n",
    "                      \"Min {self.target_col.lower()} is {self.min} in category {self.min_grp_col}.\", \n",
    "                      \"Max {self.target_col.lower()} is {self.max} in category {self.max_grp_col}.\",\n",
    "                      \"The {0} is correlated with {2} and could be potential reason.\"]\n",
    "\n",
    "ts_knowledge_base = [\"In last {self.recency} days, peak is {self.peak} {self.yaxisname} on {self.xaxispoint}).\", \"The {0} is correlated with {2} and could be potential reason for max and min.\",\n",
    "                      \"Min {self.target_col.lower()} is {self.min} in category {self.min_grp_col}.\", \n",
    "                      \"Max {self.target_col.lower()} is {self.max} in category {self.max_grp_col}.\",\n",
    "                      \"The {0} is correlated with {2} and could be potential reason.\"]\n"
   ]
  },
  {
   "cell_type": "markdown",
   "id": "14351797",
   "metadata": {
    "id": "5064b2b4-1381-4e3c-a290-3e70bfa0df91"
   },
   "source": [
    "# Data"
   ]
  },
  {
   "cell_type": "code",
   "execution_count": 36,
   "id": "621f235a",
   "metadata": {
    "id": "723c5a88-9720-4acb-9bd8-14be418810fa"
   },
   "outputs": [],
   "source": [
    "class Data:\n",
    "    \n",
    "    def __init__(self,_input=None):\n",
    "        self.input = _input\n",
    "        self.tabdf = None\n",
    "        self.ts_df = None\n",
    "        self.tabparam = None\n",
    "        self.tspram = None\n",
    "        \n",
    "    def parseinput(self):\n",
    "        if self.input['tabdata'] != None:\n",
    "            #self.tabdf = pd.read_json(self.input['tabdata'])\n",
    "            self.tabdf = pd.DataFrame(self.input['tabdata'])\n",
    "            self.tabparam = self.input['tabparam']\n",
    "\n",
    "        if self.input['tsdata'] != None:    \n",
    "            self.ts_df = json.loads(self.input['tsdata'])\n",
    "            self.tsparam = self.input['tsparam']\n",
    "                "
   ]
  },
  {
   "cell_type": "code",
   "execution_count": 10,
   "id": "435548bf",
   "metadata": {
    "id": "c0c32194-ae13-4d51-bfd1-e49700608798"
   },
   "outputs": [],
   "source": [
    "class Nlgtabinsight:\n",
    "    def __init__ (self, df, tab_param ):\n",
    "        self.df = df\n",
    "        self.imp_cols = tab_param['impcol']\n",
    "        self.target_col = tab_param['target_col']\n",
    "        self.nm =  tab_param['corr_colm_check']\n",
    "        self.grp_cols = tab_param['grp_cols']\n",
    "        self.reporting_cols = tab_param['reporting_cols']\n",
    "        self.corr_val = None\n",
    "        self.max = None\n",
    "        self.max_grp_col = None\n",
    "        self.xaxismax_name = None\n",
    "        self.min = None\n",
    "        self.min_grp_col = None\n",
    "        self.corr_val = None\n",
    "        self.corr_col_name = None\n",
    "        \n",
    "    \n",
    "#     def read_file(self):\n",
    "#         df = pd.read_excel('downloads/Sample - Superstore (1).xls')\n",
    "#         return df\n",
    "    \n",
    "    def get_corr(self):\n",
    "        corr_df = self.df[self.cols]\n",
    "#         corr_df = df[self.cols + list(target_col)]* We will not need to pass the target col in the col list \n",
    "        corr_coeff = pd.DataFrame(corr_df.corr())\n",
    "        corr_coeff_val = pd.Series(abs(corr_coeff[self.target_col]))\n",
    "        corr_coeff_tgt = corr_coeff[corr_coeff_val.between(0.3,0.99)]\n",
    "        corr_val = corr_coeff_tgt[self.target_col].values\n",
    "        nm = corr_coeff_tgt.columns[corr_coeff_val.between(0.3,0.99)]\n",
    "#       print(type(corr_coeff_tgt))\n",
    "        self.nm = nm[0]\n",
    "        self.corr_val = corr_val[0]\n",
    "        \n",
    "    def getmaxmin(self):\n",
    "        \n",
    "        df_temp = self.df.copy()\n",
    "        bottom_rows = df_temp.loc[df_temp.groupby(self.grp_cols)[self.target_col].idxmin(axis=0)]\n",
    "        self.min = [str(round(x,1)) for x in list(bottom_rows[self.target_col])]\n",
    "        self.min_grp_col = [str(x) for x in list(bottom_rows[self.grp_cols[0]])]\n",
    "       \n",
    "        top_rows = df_temp.loc[df_temp.groupby(self.grp_cols)[self.target_col].idxmax(axis=0)]\n",
    "        self.max = [str(round(x,1)) for x in list(top_rows[self.target_col])]\n",
    "        self.max_grp_col = [str(x) for x in list(top_rows[self.grp_cols[0]])]\n",
    "    \n",
    "        \n",
    "        \n",
    "    def print_val(self):\n",
    "        if self.nm != None:\n",
    "            print(f'Corr between {self.nm} and {self.target_col} is {self.corr_val}')\n",
    "            \n",
    "    def get_insight(self):\n",
    "        global tab_knowledge_base\n",
    "        \n",
    "        all_insight = []\n",
    "        all_insight.append(eval(str(\"f'\")+tab_knowledge_base[1]+\"'\"))\n",
    "        all_insight.append(eval(str(\"f'\")+tab_knowledge_base[2]+\"'\"))\n",
    "        \n",
    "        #print(f'Min {self.target_col.lower()} is {self.min} in category {self.min_grp_col}.')\n",
    "        self.tab_insight = all_insight\n",
    "        \n",
    "            \n",
    "            "
   ]
  },
  {
   "cell_type": "markdown",
   "id": "379ff6f2-4103-46e1-a213-646bd260ea66",
   "metadata": {},
   "source": [
    "# TS Insight"
   ]
  },
  {
   "cell_type": "code",
   "execution_count": 37,
   "id": "80b018fb",
   "metadata": {
    "id": "68da80e9-6b13-44b7-be43-d9d37dc45898"
   },
   "outputs": [],
   "source": [
    "class Nlgtsinsight:\n",
    "    \n",
    "    def __init__ (self, df, ts_param ):\n",
    "        \n",
    "        self.df = df'\n",
    "        self.xaxisname = ts_param['xaxisname']\n",
    "        self.yaxisname = ts_param['RUNDATE']\n",
    "        self.imp_cols = ts_param['impcol']\n",
    "        self.grp_col = ts_param['grp_col']\n",
    "        self.recency = ts_param['recency'] if ts_param['recency'] != None else None\n",
    "        self.yaxisname = ts_param['RUNDATE']\n",
    "        \n",
    "        {'xaxisname':'RUNDATE',\n",
    "            'yaxisname': 'CompTime',\n",
    "            'impcol':['COMPLETETIME'],\n",
    "            'grp_col':['REPORT'],\n",
    "            'recency': None,\n",
    "            'sla_col': 'SLA',\n",
    "            'date_col': None}  \n",
    "        \n",
    "        df[\"COMPLETE_TIME\"] = df[self.date_col].apply(convert_datetime)\n",
    "        df[\"COMPTIME_MIN\"] = df[self.nm].apply(convert_time)\n",
    "\n",
    "        self.df = df\n",
    "        self.imp_cols = ts_param['impcol']\n",
    "        self.target_col = ts_param['xaxisname']\n",
    "        self.nm =  ts_param['yaxisname']\n",
    "        self.grp_cols = ts_param['grp_cols']\n",
    "        self.reporting_cols = ts_param['reporting_cols']\n",
    "        self.date_col = ts_param['date_col']\n",
    "        \n",
    "    \n",
    "\n",
    "        \n",
    "    def drops_and_spikes():\n",
    "        df = self.df\n",
    "\n",
    "        \n",
    "        dfs = [x for _, x in df.groupby(self.grp_cols)]\n",
    "\n",
    "        for odf in dfs:\n",
    "            odf = odf.sort_values(by=['COMPLETE_TIME'])\n",
    "            \n",
    "            a = argrelextrema(odf['COMPTIME_MIN'].values, np.less_equal, order=3)[0]\n",
    "            b = argrelextrema(odf['COMPTIME_MIN'].values, np.greater_equal, order=3)[0]\n",
    "            \n",
    "            drops.append(odf.iloc[a])\n",
    "            spikes.append(odf.iloc[b])\n",
    "        \n",
    "        return drops, spikes\n",
    "    \n",
    "    def achived_sla():\n",
    "        return len(df[df[\"SLA_MIN\"] < df['COMPTIME_MIN']])\n",
    "\n",
    "    def missed_sla():\n",
    "        return len(df[df[\"SLA_MIN\"] < df['COMPTIME_MIN']])"
   ]
  },
  {
   "cell_type": "code",
   "execution_count": null,
   "id": "b79640fd",
   "metadata": {
    "id": "3LG_j5tcmPSA"
   },
   "outputs": [],
   "source": []
  },
  {
   "cell_type": "code",
   "execution_count": 9,
   "id": "2c469111",
   "metadata": {
    "id": "0a847ce0-6392-46b8-a0f9-5f61b210cf12"
   },
   "outputs": [],
   "source": [
    "# Tab Insights"
   ]
  },
  {
   "cell_type": "code",
   "execution_count": 24,
   "id": "b18ddd6a",
   "metadata": {
    "id": "44e3948f-5601-4126-af6e-cdd56f101be8"
   },
   "outputs": [
    {
     "ename": "NameError",
     "evalue": "name 'Data' is not defined",
     "output_type": "error",
     "traceback": [
      "\u001b[0;31m---------------------------------------------------------------------------\u001b[0m",
      "\u001b[0;31mNameError\u001b[0m                                 Traceback (most recent call last)",
      "\u001b[0;32m/tmp/ipykernel_7431/4133308636.py\u001b[0m in \u001b[0;36m<module>\u001b[0;34m\u001b[0m\n\u001b[1;32m      1\u001b[0m \u001b[0;32mif\u001b[0m \u001b[0m__name__\u001b[0m \u001b[0;34m==\u001b[0m \u001b[0;34m'__main__'\u001b[0m\u001b[0;34m:\u001b[0m\u001b[0;34m\u001b[0m\u001b[0m\n\u001b[1;32m      2\u001b[0m \u001b[0;34m\u001b[0m\u001b[0m\n\u001b[0;32m----> 3\u001b[0;31m     \u001b[0mdata\u001b[0m\u001b[0;34m=\u001b[0m\u001b[0mData\u001b[0m\u001b[0;34m(\u001b[0m\u001b[0m_input\u001b[0m\u001b[0;34m)\u001b[0m\u001b[0;34m\u001b[0m\u001b[0m\n\u001b[0m\u001b[1;32m      4\u001b[0m     \u001b[0mdata\u001b[0m\u001b[0;34m.\u001b[0m\u001b[0mparseinput\u001b[0m\u001b[0;34m(\u001b[0m\u001b[0;34m)\u001b[0m\u001b[0;34m\u001b[0m\u001b[0m\n\u001b[1;32m      5\u001b[0m \u001b[0;34m\u001b[0m\u001b[0m\n",
      "\u001b[0;31mNameError\u001b[0m: name 'Data' is not defined"
     ]
    }
   ],
   "source": [
    "if __name__ == '__main__':\n",
    "\n",
    "    data=Data(_input)\n",
    "    data.parseinput()\n",
    "    \n",
    "    data.\n",
    "    \n",
    "    #\n",
    "    tabinsght = Nlgtabinsight(data.tabdf,data.tabparam)\n",
    "    temp=tabinsght.getmaxmin()\n",
    "    \n",
    "    # TS insight\n",
    "    \n",
    "\n",
    "    "
   ]
  },
  {
   "cell_type": "code",
   "execution_count": null,
   "id": "a586421d",
   "metadata": {
    "id": "f5ec7691-2946-42d1-9276-c8ceb4855889"
   },
   "outputs": [],
   "source": [
    "tabinsght.get_insight()"
   ]
  },
  {
   "cell_type": "code",
   "execution_count": null,
   "id": "6d9ea4d6",
   "metadata": {
    "id": "ea0bb77b-520a-4e3e-a9d6-94a8d29081d5",
    "outputId": "7bdeccac-5177-401e-bb1a-9961313755c4"
   },
   "outputs": [
    {
     "data": {
      "text/plain": [
       "[\"Min profit is ['-1665.1', '-1850.9', '-3840.0'] in category ['Furniture', 'Office Supplies', 'Technology'].\",\n",
       " \"Max profit is ['673.9', '3177.5', '3920.0'] in category ['Furniture', 'Office Supplies', 'Technology'].\"]"
      ]
     },
     "execution_count": 259,
     "metadata": {},
     "output_type": "execute_result"
    }
   ],
   "source": [
    "tabinsght.tab_insight"
   ]
  },
  {
   "cell_type": "code",
   "execution_count": null,
   "id": "ad0fb781",
   "metadata": {
    "id": "d6e2cd68-233a-40ba-8429-dd46a494de63",
    "outputId": "8820cd82-63c3-4212-a00f-e6acfb4559dd"
   },
   "outputs": [
    {
     "data": {
      "text/plain": [
       "[-1665.0522, -1850.9464000000007, -3839.9903999999988]"
      ]
     },
     "execution_count": 146,
     "metadata": {},
     "output_type": "execute_result"
    }
   ],
   "source": [
    "list(temp['Profit'].values)"
   ]
  },
  {
   "cell_type": "code",
   "execution_count": null,
   "id": "56e37bba",
   "metadata": {
    "id": "57560612-3307-47b5-be78-fd8c2b354d54"
   },
   "outputs": [],
   "source": [
    "temp.columns = [x[0]+\"_\"+x[1] for x in temp.columns]\n"
   ]
  },
  {
   "cell_type": "code",
   "execution_count": null,
   "id": "3b9a8b8e",
   "metadata": {
    "id": "f06fdbbd-6a4d-4b75-871e-2f315fd024e2",
    "outputId": "4b0eab89-ee93-4568-af40-400cfc097e46"
   },
   "outputs": [
    {
     "ename": "NameError",
     "evalue": "name 'rename' is not defined",
     "output_type": "error",
     "traceback": [
      "\u001b[0;31m---------------------------------------------------------------------------\u001b[0m",
      "\u001b[0;31mNameError\u001b[0m                                 Traceback (most recent call last)",
      "\u001b[0;32m/tmp/ipykernel_1740/679727311.py\u001b[0m in \u001b[0;36m<module>\u001b[0;34m\u001b[0m\n\u001b[1;32m      1\u001b[0m \u001b[0mtemp\u001b[0m\u001b[0;34m.\u001b[0m\u001b[0mcolumns\u001b[0m\u001b[0;34m\u001b[0m\u001b[0m\n\u001b[0;32m----> 2\u001b[0;31m \u001b[0mrename\u001b[0m\u001b[0;34m(\u001b[0m\u001b[0mcolumns\u001b[0m\u001b[0;34m=\u001b[0m\u001b[0;34m{\u001b[0m\u001b[0;34m'ID'\u001b[0m\u001b[0;34m:\u001b[0m\u001b[0;34m'COUNT'\u001b[0m\u001b[0;34m,\u001b[0m\u001b[0;34m'TIME'\u001b[0m\u001b[0;34m:\u001b[0m\u001b[0;34m'MEAN_TIME'\u001b[0m\u001b[0;34m}\u001b[0m\u001b[0;34m)\u001b[0m\u001b[0;34m\u001b[0m\u001b[0m\n\u001b[0m",
      "\u001b[0;31mNameError\u001b[0m: name 'rename' is not defined"
     ]
    }
   ],
   "source": [
    "temp.columns\n",
    "rename(columns={'ID':'COUNT','TIME':'MEAN_TIME'})"
   ]
  },
  {
   "cell_type": "code",
   "execution_count": null,
   "id": "a43cc865",
   "metadata": {
    "id": "82487431-8aa0-42c0-b88c-1c3645fa9da4",
    "outputId": "89c63996-5731-4d2e-9fa0-49c3d622221f"
   },
   "outputs": [],
   "source": [
    "temp"
   ]
  },
  {
   "cell_type": "code",
   "execution_count": null,
   "id": "462fe7a8",
   "metadata": {
    "id": "279d1edb-4631-4159-9c31-9752c3e7e919"
   },
   "outputs": [],
   "source": []
  }
 ],
 "metadata": {
  "colab": {
   "collapsed_sections": [],
   "name": "NLG_insight_dev_missed.ipynb",
   "provenance": []
  },
  "kernelspec": {
   "display_name": "Default_env_40586",
   "language": "python",
   "name": "27344"
  },
  "language_info": {
   "codemirror_mode": {
    "name": "ipython",
    "version": 3
   },
   "file_extension": ".py",
   "mimetype": "text/x-python",
   "name": "python",
   "nbconvert_exporter": "python",
   "pygments_lexer": "ipython3",
   "version": "3.7.0"
  }
 },
 "nbformat": 4,
 "nbformat_minor": 5
}
