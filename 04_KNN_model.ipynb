{
 "cells": [
  {
   "cell_type": "code",
   "execution_count": 2,
   "metadata": {},
   "outputs": [
    {
     "name": "stderr",
     "output_type": "stream",
     "text": [
      "C:\\Anaconda3\\lib\\importlib\\_bootstrap.py:219: RuntimeWarning: numpy.ufunc size changed, may indicate binary incompatibility. Expected 192 from C header, got 216 from PyObject\n",
      "  return f(*args, **kwds)\n"
     ]
    }
   ],
   "source": [
    "import pandas as pd\n",
    "import numpy as np\n",
    "from sklearn.metrics import accuracy_score,confusion_matrix,classification_report\n",
    "from sklearn.model_selection import train_test_split,cross_val_score\n",
    "from sklearn.linear_model import LogisticRegression\n",
    "from sklearn.preprocessing import StandardScaler,PolynomialFeatures\n",
    "from sklearn.neighbors import KNeighborsClassifier\n",
    "import warnings\n",
    "warnings.filterwarnings('ignore')"
   ]
  },
  {
   "cell_type": "code",
   "execution_count": 3,
   "metadata": {},
   "outputs": [],
   "source": [
    "np.random.seed(42)"
   ]
  },
  {
   "cell_type": "code",
   "execution_count": 4,
   "metadata": {},
   "outputs": [],
   "source": [
    "df = pd.read_csv(\"http://archive.ics.uci.edu/ml/machine-learning-databases/wine-quality/winequality-white.csv\",sep = ';')\n"
   ]
  },
  {
   "cell_type": "code",
   "execution_count": 14,
   "metadata": {},
   "outputs": [],
   "source": [
    "y = df.pop('quality')"
   ]
  },
  {
   "cell_type": "code",
   "execution_count": null,
   "metadata": {},
   "outputs": [],
   "source": [
    "df.head(2)"
   ]
  },
  {
   "cell_type": "code",
   "execution_count": 6,
   "metadata": {},
   "outputs": [
    {
     "data": {
      "text/plain": [
       "6    2198\n",
       "5    1457\n",
       "7     880\n",
       "8     175\n",
       "4     163\n",
       "3      20\n",
       "9       5\n",
       "Name: quality, dtype: int64"
      ]
     },
     "execution_count": 6,
     "metadata": {},
     "output_type": "execute_result"
    }
   ],
   "source": [
    "df['quality'].value_counts()"
   ]
  },
  {
   "cell_type": "code",
   "execution_count": 8,
   "metadata": {},
   "outputs": [
    {
     "data": {
      "text/plain": [
       "(4898, 12)"
      ]
     },
     "execution_count": 8,
     "metadata": {},
     "output_type": "execute_result"
    }
   ],
   "source": [
    "df.shape"
   ]
  },
  {
   "cell_type": "code",
   "execution_count": 9,
   "metadata": {},
   "outputs": [
    {
     "data": {
      "text/plain": [
       "fixed acidity           0\n",
       "volatile acidity        0\n",
       "citric acid             0\n",
       "residual sugar          0\n",
       "chlorides               0\n",
       "free sulfur dioxide     0\n",
       "total sulfur dioxide    0\n",
       "density                 0\n",
       "pH                      0\n",
       "sulphates               0\n",
       "alcohol                 0\n",
       "quality                 0\n",
       "dtype: int64"
      ]
     },
     "execution_count": 9,
     "metadata": {},
     "output_type": "execute_result"
    }
   ],
   "source": [
    "df.isna().sum()"
   ]
  },
  {
   "cell_type": "code",
   "execution_count": 12,
   "metadata": {},
   "outputs": [],
   "source": [
    "for i in df.columns:\n",
    "    df[i] = df[i].fillna(np.mean(df[i]))"
   ]
  },
  {
   "cell_type": "code",
   "execution_count": 17,
   "metadata": {},
   "outputs": [],
   "source": [
    "train_x,test_x,train_y,test_y = train_test_split(df,y,test_size=0.2)"
   ]
  },
  {
   "cell_type": "code",
   "execution_count": 21,
   "metadata": {},
   "outputs": [],
   "source": [
    "def model_fit(alg,train_x,test_x,train_y,test_y,if_cv=True,cv_folds=5):\n",
    "    alg.fit(train_x,train_y)\n",
    "    \n",
    "    #crossvalidation\n",
    "    \n",
    "    if if_cv:  # set to true\n",
    "        cv_score = cross_val_score(alg,train_x,train_y,cv = cv_folds,scoring='f1_macro')\n",
    "        # f1 --- it is harmoonized mean\n",
    "    prediction = alg.predict(test_x)\n",
    "    \n",
    "    if if_cv:\n",
    "        print(\"CV Report:  Mean -%.3g | std - %3g | Min - %3g,max - %3g\" %(np.mean(cv_score)),\n",
    "              np.std(cv_score),\n",
    "              np.min(cv_score),\n",
    "              np.max(cv_score))\n",
    "    print(\"Accuray:\",accuracy_score(test_y,prediction))\n",
    "    print('-'*100)\n",
    "    \n",
    "    cm = pd.DataFrame(confusion_matrix(test_y,prediction))\n",
    "    print(cm)\n"
   ]
  },
  {
   "cell_type": "code",
   "execution_count": 23,
   "metadata": {},
   "outputs": [],
   "source": [
    "def model_fit(alg, train_x, test_x, train_y, test_y, if_cv = True, cv_folds = 5):\n",
    "    alg.fit(train_x, train_y)\n",
    "    \n",
    "    #Cross-val\n",
    "    if if_cv:\n",
    "        cv_score = cross_val_score(alg, train_x, train_y, cv = cv_folds, scoring = 'f1_macro')\n",
    "    \n",
    "    prediction = alg.predict(test_x)\n",
    "    \n",
    "    if if_cv:\n",
    "        print('CV report: Mean - %.3g | Std - %.3g | Min - %.3g, Max- %.3g' %(np.mean(cv_score),\n",
    "                                                                              np.std(cv_score), \n",
    "                                                                              np.min(cv_score), \n",
    "                                                                              np.max(cv_score)))\n",
    "    print(\"Accuracy: \", accuracy_score(test_y, prediction))\n",
    "    print('-'*100)\n",
    "    \n",
    "    cm = pd.DataFrame(confusion_matrix(test_y, prediction))\n",
    "    print(cm)\n"
   ]
  },
  {
   "cell_type": "code",
   "execution_count": 24,
   "metadata": {},
   "outputs": [
    {
     "name": "stdout",
     "output_type": "stream",
     "text": [
      "CV report: Mean - 0.158 | Std - 0.0149 | Min - 0.143, Max- 0.186\n",
      "Accuracy:  0.4846938775510204\n",
      "----------------------------------------------------------------------------------------------------\n",
      "   0  1   2    3  4  5  6\n",
      "0  0  0   1    3  0  0  0\n",
      "1  0  0  17   21  1  0  0\n",
      "2  0  0  94  195  1  0  0\n",
      "3  0  0  75  372  3  0  0\n",
      "4  0  0  15  147  9  0  0\n",
      "5  0  0   3   20  2  0  0\n",
      "6  0  0   0    1  0  0  0\n"
     ]
    }
   ],
   "source": [
    "lr = LogisticRegression()\n",
    "model_fit(lr,train_x,test_x,train_y,test_y)"
   ]
  },
  {
   "cell_type": "code",
   "execution_count": 28,
   "metadata": {},
   "outputs": [],
   "source": [
    "def KNN_predicts(train_x,test_x,train_y,test_y,scaler,neighbors,metric='Manhattan',weights='uniform'):\n",
    "    train_scaled = scaler.fit_transform(train_x)\n",
    "    test_scaled = scaler.fit_transform(test_x)\n",
    "    \n",
    "    KNN = KNeighborsClassifier(n_neighbors=neighbors,metric=metric,weights=weights,n_jobs=1)\n",
    "    KNN.fit(train_scaled,train_y)\n",
    "    prediction = KNN.predict(test_scaled)\n",
    "    \n",
    "    print(\"Accuracy:\" ,accuracy_score(test_y,prediction))\n",
    "    print('-'*100)\n",
    "    return KNN"
   ]
  },
  {
   "cell_type": "code",
   "execution_count": 36,
   "metadata": {},
   "outputs": [],
   "source": [
    "def KNN_predicts(train_x, test_x, train_y, test_y, scaler, neighbours, \n",
    "                 metric = 'manhattan', \n",
    "                 weights = 'uniform'):\n",
    "    \n",
    "    train_scaled = scaler.fit_transform(train_x)\n",
    "    test_scaled = scaler.transform(test_x)\n",
    "    \n",
    "    KNN = KNeighborsClassifier(n_neighbors= neighbours, metric = metric, \n",
    "                               weights = weights, n_jobs = -1)\n",
    "    KNN.fit(train_scaled, train_y)\n",
    "    prediction = KNN.predict(test_scaled)\n",
    "    \n",
    "    print('Accuracy: ', accuracy_score(test_y, prediction))\n",
    "    print('-'*100)\n",
    "    return KNN\n"
   ]
  },
  {
   "cell_type": "code",
   "execution_count": 37,
   "metadata": {},
   "outputs": [
    {
     "name": "stdout",
     "output_type": "stream",
     "text": [
      "Accuracy:  0.636734693877551\n",
      "----------------------------------------------------------------------------------------------------\n"
     ]
    },
    {
     "data": {
      "text/plain": [
       "KNeighborsClassifier(algorithm='auto', leaf_size=30, metric='manhattan',\n",
       "                     metric_params=None, n_jobs=-1, n_neighbors=1, p=2,\n",
       "                     weights='uniform')"
      ]
     },
     "execution_count": 37,
     "metadata": {},
     "output_type": "execute_result"
    }
   ],
   "source": [
    "KNN_predicts(train_x,test_x,train_y,test_y,StandardScaler(),1)"
   ]
  },
  {
   "cell_type": "markdown",
   "metadata": {},
   "source": [
    "# Neighbor tuning"
   ]
  },
  {
   "cell_type": "code",
   "execution_count": 39,
   "metadata": {},
   "outputs": [
    {
     "name": "stdout",
     "output_type": "stream",
     "text": [
      "Accuracy score on KNN using N-neighours = 2:Accuracy:  0.5663265306122449\n",
      "----------------------------------------------------------------------------------------------------\n",
      "Accuracy score on KNN using N-neighours = 4:Accuracy:  0.5489795918367347\n",
      "----------------------------------------------------------------------------------------------------\n",
      "Accuracy score on KNN using N-neighours = 8:Accuracy:  0.5551020408163265\n",
      "----------------------------------------------------------------------------------------------------\n",
      "Accuracy score on KNN using N-neighours = 16:Accuracy:  0.5408163265306123\n",
      "----------------------------------------------------------------------------------------------------\n",
      "Accuracy score on KNN using N-neighours = 32:Accuracy:  0.5183673469387755\n",
      "----------------------------------------------------------------------------------------------------\n",
      "Accuracy score on KNN using N-neighours = 64:Accuracy:  0.5295918367346939\n",
      "----------------------------------------------------------------------------------------------------\n",
      "Accuracy score on KNN using N-neighours = 128:Accuracy:  0.5316326530612245\n",
      "----------------------------------------------------------------------------------------------------\n",
      "Accuracy score on KNN using N-neighours = 256:Accuracy:  0.5357142857142857\n",
      "----------------------------------------------------------------------------------------------------\n",
      "Accuracy score on KNN using N-neighours = 512:Accuracy:  0.5153061224489796\n",
      "----------------------------------------------------------------------------------------------------\n",
      "Accuracy score on KNN using N-neighours = 1024:Accuracy:  0.4897959183673469\n",
      "----------------------------------------------------------------------------------------------------\n"
     ]
    }
   ],
   "source": [
    "for k in range(1,11):\n",
    "    print(\"Accuracy score on KNN using N-neighours = {0}:\" .format(2**k),end = '')\n",
    "    KNN_predicts(train_x,test_x,train_y,test_y,StandardScaler(),2**k)"
   ]
  },
  {
   "cell_type": "code",
   "execution_count": 42,
   "metadata": {},
   "outputs": [
    {
     "name": "stdout",
     "output_type": "stream",
     "text": [
      "Accuracy score on KNN using euclidean metric and  5 neighbors : Accuracy:  0.5581632653061225\n",
      "----------------------------------------------------------------------------------------------------\n",
      "Accuracy score on KNN using minkowski metric and  5 neighbors : Accuracy:  0.5581632653061225\n",
      "----------------------------------------------------------------------------------------------------\n",
      "Accuracy score on KNN using manhattan metric and  5 neighbors : Accuracy:  0.5510204081632653\n",
      "----------------------------------------------------------------------------------------------------\n",
      "Accuracy score on KNN using chebyshev metric and  5 neighbors : Accuracy:  0.5428571428571428\n",
      "----------------------------------------------------------------------------------------------------\n"
     ]
    }
   ],
   "source": [
    "k =5\n",
    "\n",
    "for metric in ['euclidean', 'minkowski', 'manhattan', 'chebyshev']:\n",
    "    print('Accuracy score on KNN using {} metric and  {} neighbors :'.format(metric, k), end = ' ')\n",
    "    KNN_predicts(train_x, test_x, train_y, test_y, StandardScaler(), k, metric)\n"
   ]
  },
  {
   "cell_type": "markdown",
   "metadata": {},
   "source": [
    "# Model Pickle"
   ]
  },
  {
   "cell_type": "code",
   "execution_count": 43,
   "metadata": {},
   "outputs": [
    {
     "ename": "NameError",
     "evalue": "name 'KNN' is not defined",
     "output_type": "error",
     "traceback": [
      "\u001b[1;31m---------------------------------------------------------------------------\u001b[0m",
      "\u001b[1;31mNameError\u001b[0m                                 Traceback (most recent call last)",
      "\u001b[1;32m<ipython-input-43-26e9efe9dfdb>\u001b[0m in \u001b[0;36m<module>\u001b[1;34m\u001b[0m\n\u001b[1;32m----> 1\u001b[1;33m \u001b[0mKNN\u001b[0m\u001b[1;33m\u001b[0m\u001b[1;33m\u001b[0m\u001b[0m\n\u001b[0m",
      "\u001b[1;31mNameError\u001b[0m: name 'KNN' is not defined"
     ]
    }
   ],
   "source": [
    "KNN"
   ]
  },
  {
   "cell_type": "code",
   "execution_count": 45,
   "metadata": {},
   "outputs": [
    {
     "data": {
      "text/plain": [
       "['KNN_MODEL_RAJ.pkl']"
      ]
     },
     "execution_count": 45,
     "metadata": {},
     "output_type": "execute_result"
    }
   ],
   "source": [
    "import joblib\n",
    "joblib.dump(lr,'KNN_MODEL_RAJ.pkl')"
   ]
  },
  {
   "cell_type": "code",
   "execution_count": null,
   "metadata": {},
   "outputs": [],
   "source": []
  }
 ],
 "metadata": {
  "kernelspec": {
   "display_name": "Python 3",
   "language": "python",
   "name": "python3"
  },
  "language_info": {
   "codemirror_mode": {
    "name": "ipython",
    "version": 3
   },
   "file_extension": ".py",
   "mimetype": "text/x-python",
   "name": "python",
   "nbconvert_exporter": "python",
   "pygments_lexer": "ipython3",
   "version": "3.7.6"
  }
 },
 "nbformat": 4,
 "nbformat_minor": 4
}
